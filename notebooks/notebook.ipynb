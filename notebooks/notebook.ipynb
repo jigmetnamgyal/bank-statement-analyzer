{
 "cells": [
  {
   "cell_type": "code",
   "execution_count": 5,
   "metadata": {},
   "outputs": [
    {
     "name": "stdout",
     "output_type": "stream",
     "text": [
      "      Name  age          city\n",
      "0    Jigme   22       Thimphu\n",
      "1    Tashi   23        babesa\n",
      "2  Namgyal   24          Paro\n",
      "3   Lhatul   25  Phuntsholing\n"
     ]
    }
   ],
   "source": [
    "import pandas as pd\n",
    "\n",
    "data = {\n",
    "    \"Name\": [\"Jigme\", \"Tashi\", \"Namgyal\", \"Boss\"],\n",
    "    \"age\": [22, 23, 24, 25],\n",
    "    \"city\": [\"Thimphu\", \"babesa\", \"Paro\", \"Phuntsholing\"],\n",
    "}\n",
    "\n",
    "df = pd.DataFrame(data)\n",
    "print(df)"
   ]
  },
  {
   "cell_type": "code",
   "execution_count": null,
   "metadata": {},
   "outputs": [],
   "source": []
  }
 ],
 "metadata": {
  "kernelspec": {
   "display_name": ".venv",
   "language": "python",
   "name": "python3"
  },
  "language_info": {
   "codemirror_mode": {
    "name": "ipython",
    "version": 3
   },
   "file_extension": ".py",
   "mimetype": "text/x-python",
   "name": "python",
   "nbconvert_exporter": "python",
   "pygments_lexer": "ipython3",
   "version": "3.13.0"
  }
 },
 "nbformat": 4,
 "nbformat_minor": 2
}
